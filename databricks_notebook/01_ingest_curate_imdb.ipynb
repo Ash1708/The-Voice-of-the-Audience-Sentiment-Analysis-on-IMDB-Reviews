{
 "cells": [
  {
   "cell_type": "code",
   "execution_count": 0,
   "metadata": {
    "application/vnd.databricks.v1+cell": {
     "cellMetadata": {
      "byteLimit": 2048000,
      "rowLimit": 10000
     },
     "inputWidgets": {},
     "nuid": "884c125f-c415-45ab-a24b-5253529aed33",
     "showTitle": false,
     "tableResultSettingsMap": {},
     "title": ""
    }
   },
   "outputs": [
    {
     "output_type": "stream",
     "name": "stdout",
     "output_type": "stream",
     "text": [
      "Using BLOB endpoint paths:\nRAW : wasbs://nlp@stnlpportfolioweu.blob.core.windows.net/raw/aclImdb_v1.tar.gz\nCURATED DIR: wasbs://nlp@stnlpportfolioweu.blob.core.windows.net/curated/\n"
     ]
    }
   ],
   "source": [
    "# keep your existing vars\n",
    "storage_account = \"stnlpportfolioweu\"\n",
    "account_key = \"paste_accountkey\"\n",
    "\n",
    "# 1) keep DFS config (ok to keep)\n",
    "spark.conf.set(f\"fs.azure.account.key.{storage_account}.dfs.core.windows.net\", account_key)\n",
    "\n",
    "# 2) ADD Blob endpoint config (this is the fix)\n",
    "spark.conf.set(f\"fs.azure.account.key.{storage_account}.blob.core.windows.net\", account_key)\n",
    "\n",
    "# Use BLOB endpoint paths (wasbs://)\n",
    "raw_path_blob    = f\"wasbs://nlp@{storage_account}.blob.core.windows.net/raw/aclImdb_v1.tar.gz\"\n",
    "curated_dir_blob = f\"wasbs://nlp@{storage_account}.blob.core.windows.net/curated/\"\n",
    "\n",
    "print(\"Using BLOB endpoint paths:\")\n",
    "print(\"RAW :\", raw_path_blob)\n",
    "print(\"CURATED DIR:\", curated_dir_blob)\n",
    "\n"
   ]
  },
  {
   "cell_type": "code",
   "execution_count": 0,
   "metadata": {
    "application/vnd.databricks.v1+cell": {
     "cellMetadata": {
      "byteLimit": 2048000,
      "rowLimit": 10000
     },
     "inputWidgets": {},
     "nuid": "24879718-f195-4a2f-a3ea-90d978913f39",
     "showTitle": false,
     "tableResultSettingsMap": {},
     "title": ""
    }
   },
   "outputs": [
    {
     "output_type": "stream",
     "name": "stdout",
     "output_type": "stream",
     "text": [
      "Uploaded to wasbs://nlp@stnlpportfolioweu.blob.core.windows.net/raw/aclImdb_v1.tar.gz\n"
     ]
    }
   ],
   "source": [
    "import os, urllib.request\n",
    "\n",
    "# local temp location\n",
    "local_file = \"/dbfs/tmp/aclImdb_v1.tar.gz\"\n",
    "\n",
    "# 1) download to Databricks local (about ~80 MB)\n",
    "url = \"http://ai.stanford.edu/~amaas/data/sentiment/aclImdb_v1.tar.gz\"\n",
    "urllib.request.urlretrieve(url, local_file)\n",
    "\n",
    "# 2) make sure the raw/ folder exists on your Blob container\n",
    "dbutils.fs.mkdirs(\"wasbs://nlp@stnlpportfolioweu.blob.core.windows.net/raw\")\n",
    "\n",
    "# 3) upload to Blob raw/\n",
    "dbutils.fs.cp(f\"file:{local_file}\",\n",
    "              \"wasbs://nlp@stnlpportfolioweu.blob.core.windows.net/raw/aclImdb_v1.tar.gz\",\n",
    "              recurse=False)\n",
    "\n",
    "print(\"Uploaded to wasbs://nlp@stnlpportfolioweu.blob.core.windows.net/raw/aclImdb_v1.tar.gz\")\n"
   ]
  },
  {
   "cell_type": "code",
   "execution_count": 0,
   "metadata": {
    "application/vnd.databricks.v1+cell": {
     "cellMetadata": {
      "byteLimit": 2048000,
      "rowLimit": 10000
     },
     "inputWidgets": {},
     "nuid": "ad70911b-9df3-4029-934e-3d533c5c63cc",
     "showTitle": false,
     "tableResultSettingsMap": {},
     "title": ""
    }
   },
   "outputs": [
    {
     "output_type": "stream",
     "name": "stdout",
     "output_type": "stream",
     "text": [
      "Loaded 50,000 labeled reviews into memory\n"
     ]
    },
    {
     "output_type": "display_data",
     "data": {
      "text/html": [
       "<style scoped>\n",
       "  .table-result-container {\n",
       "    max-height: 300px;\n",
       "    overflow: auto;\n",
       "  }\n",
       "  table, th, td {\n",
       "    border: 1px solid black;\n",
       "    border-collapse: collapse;\n",
       "  }\n",
       "  th, td {\n",
       "    padding: 5px;\n",
       "  }\n",
       "  th {\n",
       "    text-align: left;\n",
       "  }\n",
       "</style><div class='table-result-container'><table class='table-result'><thead style='background-color: white'><tr><th>split</th><th>label</th><th>count</th></tr></thead><tbody><tr><td>test</td><td>0</td><td>12500</td></tr><tr><td>test</td><td>1</td><td>12500</td></tr><tr><td>train</td><td>0</td><td>12500</td></tr><tr><td>train</td><td>1</td><td>12500</td></tr></tbody></table></div>"
      ]
     },
     "metadata": {
      "application/vnd.databricks.v1+output": {
       "addedWidgets": {},
       "aggData": [],
       "aggError": "",
       "aggOverflow": false,
       "aggSchema": [],
       "aggSeriesLimitReached": false,
       "aggType": "",
       "arguments": {},
       "columnCustomDisplayInfos": {},
       "data": [
        [
         "test",
         0,
         12500
        ],
        [
         "test",
         1,
         12500
        ],
        [
         "train",
         0,
         12500
        ],
        [
         "train",
         1,
         12500
        ]
       ],
       "datasetInfos": [],
       "dbfsResultPath": null,
       "isJsonSchema": true,
       "metadata": {},
       "overflow": false,
       "plotOptions": {
        "customPlotOptions": {},
        "displayType": "table",
        "pivotAggregation": null,
        "pivotColumns": null,
        "xColumns": null,
        "yColumns": null
       },
       "removedWidgets": [],
       "schema": [
        {
         "metadata": "{}",
         "name": "split",
         "type": "\"string\""
        },
        {
         "metadata": "{}",
         "name": "label",
         "type": "\"integer\""
        },
        {
         "metadata": "{}",
         "name": "count",
         "type": "\"long\""
        }
       ],
       "type": "table"
      }
     },
     "output_type": "display_data"
    },
    {
     "output_type": "stream",
     "name": "stdout",
     "output_type": "stream",
     "text": [
      "Wrote curated dataset to: wasbs://nlp@stnlpportfolioweu.blob.core.windows.net/curated/imdb_reviews_parquet\n"
     ]
    }
   ],
   "source": [
    "import os, io, tarfile, urllib.request\n",
    "from pyspark.sql import Row\n",
    "from pyspark.sql import functions as F, types as T\n",
    "\n",
    "# 1) Ensure local copy exists (download if missing)\n",
    "local_tar = \"/dbfs/tmp/aclImdb_v1.tar.gz\"\n",
    "if not os.path.exists(local_tar):\n",
    "    url = \"http://ai.stanford.edu/~amaas/data/sentiment/aclImdb_v1.tar.gz\"\n",
    "    print(\"Downloading IMDB tar.gz (~80MB)...\")\n",
    "    urllib.request.urlretrieve(url, local_tar)\n",
    "    print(\"Download complete.\")\n",
    "\n",
    "# 2) Stream-read the tar.gz WITHOUT extracting to disk\n",
    "def iter_reviews(tar, split):\n",
    "    \"\"\"Yield (text, label:int, split:str) from a split (train/test), pos=1, neg=0.\"\"\"\n",
    "    prefix_pos = f\"aclImdb/{split}/pos/\"\n",
    "    prefix_neg = f\"aclImdb/{split}/neg/\"\n",
    "    for m in tar.getmembers():\n",
    "        name = m.name\n",
    "        if m.isfile():\n",
    "            if name.startswith(prefix_pos):\n",
    "                f = tar.extractfile(m)\n",
    "                if f: \n",
    "                    yield f.read().decode(\"utf-8\", errors=\"ignore\"), 1, split\n",
    "            elif name.startswith(prefix_neg):\n",
    "                f = tar.extractfile(m)\n",
    "                if f:\n",
    "                    yield f.read().decode(\"utf-8\", errors=\"ignore\"), 0, split\n",
    "\n",
    "rows = []\n",
    "with tarfile.open(local_tar, \"r:gz\") as tar:\n",
    "    rows.extend(iter_reviews(tar, \"train\"))\n",
    "    rows.extend(iter_reviews(tar, \"test\"))\n",
    "\n",
    "print(f\"Loaded {len(rows):,} labeled reviews into memory\")\n",
    "\n",
    "# 3) Build Spark DataFrame\n",
    "schema = T.StructType([\n",
    "    T.StructField(\"text\",  T.StringType(), False),\n",
    "    T.StructField(\"label\", T.IntegerType(), False),\n",
    "    T.StructField(\"split\", T.StringType(), False),\n",
    "])\n",
    "df = spark.createDataFrame(rows, schema=schema)\n",
    "\n",
    "# Minimal clean (remove <br/> etc.)\n",
    "import re\n",
    "@F.udf(\"string\")\n",
    "def clean_text(s):\n",
    "    s = re.sub(r\"<br\\s*/?>\", \" \", s)\n",
    "    s = re.sub(r\"[^A-Za-z0-9.,!?;:'\\\"()\\- ]\", \" \", s)\n",
    "    s = re.sub(r\"\\s+\", \" \", s).strip()\n",
    "    return s\n",
    "\n",
    "df_clean = (df\n",
    "    .withColumn(\"text_clean\", clean_text(F.col(\"text\")))\n",
    "    .withColumn(\"text_len\", F.length(\"text\"))\n",
    "    .drop(\"text\")\n",
    ")\n",
    "\n",
    "display(df_clean.groupBy(\"split\",\"label\").count().orderBy(\"split\",\"label\"))\n",
    "\n",
    "# 4) Write curated parquet to your Blob endpoint (partitioned by split)\n",
    "out_path = curated_dir_blob + \"imdb_reviews_parquet\"\n",
    "(df_clean\n",
    " .repartition(\"split\")          # small shuffle by split\n",
    " .write.mode(\"overwrite\")\n",
    " .partitionBy(\"split\")\n",
    " .parquet(out_path))\n",
    "\n",
    "print(\"Wrote curated dataset to:\", out_path)\n"
   ]
  },
  {
   "cell_type": "code",
   "execution_count": 0,
   "metadata": {
    "application/vnd.databricks.v1+cell": {
     "cellMetadata": {
      "byteLimit": 2048000,
      "rowLimit": 10000
     },
     "inputWidgets": {},
     "nuid": "f53af098-e39e-4851-a2cc-a34a387a984d",
     "showTitle": false,
     "tableResultSettingsMap": {},
     "title": ""
    }
   },
   "outputs": [
    {
     "output_type": "stream",
     "name": "stdout",
     "output_type": "stream",
     "text": [
      "Train size: 25000 | Positives: 12500 | Negatives: 12500\nTest  size: 25000 | Positives: 12500 | Negatives: 12500\n\nSample train[0] label=0:\n I rented I AM CURIOUS-YELLOW from my video store because of all the controversy that surrounded it when it was first released in 1967. I also heard that at first it was seized by U.S. customs if it ever tried to enter this country, therefore being a fan of films considered \"controversial\" I really h ...\n\nSample train[1] label=0:\n \"I Am Curious: Yellow\" is a risible and pretentious steaming pile. It doesn't matter what one's political views are because this film can hardly be taken seriously on any level. As for the claim that frontal male nudity is an automatic NC-17, that isn't true. I've seen R-rated films with male nudity ...\n"
     ]
    }
   ],
   "source": [
    "# ---- Cell A: load curated dataset into pandas train/test ----\n",
    "\n",
    "# If you restarted the notebook, make sure these exist.\n",
    "# storage_account, account_key, and curated_dir_blob should already be set from earlier.\n",
    "curated_parquet_path = curated_dir_blob + \"imdb_reviews_parquet\"\n",
    "\n",
    "# Read from Parquet with Spark (fast + lazy), then convert each split to pandas\n",
    "df_spark = (spark.read\n",
    "                 .parquet(curated_parquet_path)\n",
    "                 .select(\"text_clean\", \"label\", \"split\"))\n",
    "\n",
    "# Train split -> pandas\n",
    "train_spark = df_spark.where(\"split = 'train'\").select(\"text_clean\", \"label\")\n",
    "train_df = train_spark.toPandas()\n",
    "\n",
    "# Test split -> pandas\n",
    "test_spark = df_spark.where(\"split = 'test'\").select(\"text_clean\", \"label\")\n",
    "test_df = test_spark.toPandas()\n",
    "\n",
    "# Features/labels for scikit-learn\n",
    "X_train, y_train = train_df[\"text_clean\"].values, train_df[\"label\"].values\n",
    "X_test,  y_test  = test_df[\"text_clean\"].values,  test_df[\"label\"].values\n",
    "\n",
    "# Quick sanity checks\n",
    "print(\"Train size:\", len(X_train), \"| Positives:\", (y_train==1).sum(), \"| Negatives:\", (y_train==0).sum())\n",
    "print(\"Test  size:\", len(X_test),  \"| Positives:\", (y_test==1).sum(),  \"| Negatives:\", (y_test==0).sum())\n",
    "\n",
    "# Peek at a couple reviews\n",
    "for i in range(2):\n",
    "    print(f\"\\nSample train[{i}] label={y_train[i]}:\\n\", X_train[i][:300], \"...\")\n"
   ]
  },
  {
   "cell_type": "code",
   "execution_count": 0,
   "metadata": {
    "application/vnd.databricks.v1+cell": {
     "cellMetadata": {
      "byteLimit": 2048000,
      "rowLimit": 10000
     },
     "inputWidgets": {},
     "nuid": "c36aaa55-6dee-420a-9163-ce53b83d6a54",
     "showTitle": false,
     "tableResultSettingsMap": {},
     "title": ""
    }
   },
   "outputs": [
    {
     "output_type": "stream",
     "name": "stdout",
     "output_type": "stream",
     "text": [
      "Model fitted in 117.33 s\n"
     ]
    }
   ],
   "source": [
    "# ---- Cell B: TF-IDF + Logistic Regression (fit) ----\n",
    "from sklearn.pipeline import Pipeline\n",
    "from sklearn.feature_extraction.text import TfidfVectorizer\n",
    "from sklearn.linear_model import LogisticRegression\n",
    "import time\n",
    "\n",
    "# Build a strong baseline pipeline\n",
    "clf = Pipeline(steps=[\n",
    "    (\"tfidf\", TfidfVectorizer(\n",
    "        lowercase=True,\n",
    "        strip_accents=\"unicode\",\n",
    "        ngram_range=(1, 2),    # unigrams + bigrams\n",
    "        min_df=5,              # drop ultra-rare terms\n",
    "        max_df=0.9,            # drop overly common terms\n",
    "        max_features=200_000,  # cap vocab size (keeps memory in check)\n",
    "    )),\n",
    "    (\"logreg\", LogisticRegression(\n",
    "        solver=\"liblinear\",    # robust for sparse data\n",
    "        penalty=\"l2\",\n",
    "        C=1.0,\n",
    "        max_iter=1000,\n",
    "        random_state=42\n",
    "    ))\n",
    "])\n",
    "\n",
    "t0 = time.time()\n",
    "clf.fit(X_train, y_train)\n",
    "print(f\"Model fitted in {time.time() - t0:.2f} s\")\n",
    "\n",
    "# Keep the trained pipeline in memory as `clf` for the next cell\n"
   ]
  },
  {
   "cell_type": "code",
   "execution_count": 0,
   "metadata": {
    "application/vnd.databricks.v1+cell": {
     "cellMetadata": {
      "byteLimit": 2048000,
      "rowLimit": 10000
     },
     "inputWidgets": {},
     "nuid": "d4042a34-8f69-4a7b-8db7-f90028894aef",
     "showTitle": false,
     "tableResultSettingsMap": {},
     "title": ""
    }
   },
   "outputs": [
    {
     "output_type": "stream",
     "name": "stdout",
     "output_type": "stream",
     "text": [
      "Accuracy : 0.8938\nF1-score : 0.8943\nROC-AUC  : 0.9596\n\nClassification report:\n               precision    recall  f1-score   support\n\n     neg (0)       0.90      0.89      0.89     12500\n     pos (1)       0.89      0.90      0.89     12500\n\n    accuracy                           0.89     25000\n   macro avg       0.89      0.89      0.89     25000\nweighted avg       0.89      0.89      0.89     25000\n\n"
     ]
    },
    {
     "output_type": "display_data",
     "data": {
      "image/png": "[encoded data removed]",
      "text/plain": [
       "<Figure size 500x400 with 2 Axes>"
      ]
     },
     "metadata": {},
     "output_type": "display_data"
    },
    {
     "output_type": "display_data",
     "data": {
      "image/png": "[encoded data removed]",
      "text/plain": [
       "<Figure size 640x480 with 1 Axes>"
      ]
     },
     "metadata": {},
     "output_type": "display_data"
    }
   ],
   "source": [
    "# ---- Cell C: evaluate the baseline model ----\n",
    "from sklearn.metrics import accuracy_score, f1_score, roc_auc_score, confusion_matrix, classification_report, RocCurveDisplay\n",
    "import matplotlib.pyplot as plt\n",
    "import numpy as np\n",
    "\n",
    "# 1) Predict\n",
    "y_pred = clf.predict(X_test)\n",
    "# some scikit-learn versions expose predict_proba; use decision_function fallback if not\n",
    "if hasattr(clf[-1], \"predict_proba\"):\n",
    "    y_prob = clf.predict_proba(X_test)[:, 1]\n",
    "else:\n",
    "    # scale decision_function to 0..1 (rough fallback)\n",
    "    scores = clf.decision_function(X_test)\n",
    "    y_prob = (scores - scores.min()) / (scores.max() - scores.min() + 1e-9)\n",
    "\n",
    "# 2) Metrics\n",
    "acc  = accuracy_score(y_test, y_pred)\n",
    "f1   = f1_score(y_test, y_pred)\n",
    "auc  = roc_auc_score(y_test, y_prob)\n",
    "\n",
    "print(f\"Accuracy : {acc:.4f}\")\n",
    "print(f\"F1-score : {f1:.4f}\")\n",
    "print(f\"ROC-AUC  : {auc:.4f}\")\n",
    "print(\"\\nClassification report:\\n\", classification_report(y_test, y_pred, target_names=[\"neg (0)\", \"pos (1)\"]))\n",
    "\n",
    "# 3) Confusion matrix (counts)\n",
    "cm = confusion_matrix(y_test, y_pred, labels=[0,1])\n",
    "cm_norm = cm / cm.sum(axis=1, keepdims=True)\n",
    "\n",
    "# Plot confusion matrix (counts + normalized as text)\n",
    "plt.figure(figsize=(5,4))\n",
    "plt.imshow(cm, interpolation=\"nearest\")\n",
    "plt.title(\"Confusion Matrix (Test)\")\n",
    "plt.xlabel(\"Predicted\")\n",
    "plt.ylabel(\"True\")\n",
    "plt.xticks([0,1], [\"neg (0)\", \"pos (1)\"])\n",
    "plt.yticks([0,1], [\"neg (0)\", \"pos (1)\"])\n",
    "for (i,j), v in np.ndenumerate(cm):\n",
    "    plt.text(j, i, f\"{v}\\n({cm_norm[i,j]:.2f})\", ha=\"center\", va=\"center\")\n",
    "plt.colorbar()\n",
    "plt.tight_layout()\n",
    "plt.show()\n",
    "\n",
    "# 4) ROC curve\n",
    "RocCurveDisplay.from_predictions(y_test, y_prob)\n",
    "plt.title(\"ROC Curve (Test)\")\n",
    "plt.tight_layout()\n",
    "plt.show()\n"
   ]
  },
  {
   "cell_type": "code",
   "execution_count": 0,
   "metadata": {
    "application/vnd.databricks.v1+cell": {
     "cellMetadata": {
      "byteLimit": 2048000,
      "rowLimit": 10000
     },
     "inputWidgets": {},
     "nuid": "9fcfbeb1-af4f-4fcd-a9de-65fa305afb63",
     "showTitle": false,
     "tableResultSettingsMap": {},
     "title": ""
    }
   },
   "outputs": [
    {
     "output_type": "stream",
     "name": "stdout",
     "output_type": "stream",
     "text": [
      "✅ Export complete.\nDownload predictions: https://adb-1628863439761313.13.azuredatabricks.net/files/predictions.csv\nDownload metrics    : https://adb-1628863439761313.13.azuredatabricks.net/files/metrics.csv\n"
     ]
    }
   ],
   "source": [
    "# === Export predictions & metrics to FileStore and print download URLs ===\n",
    "import os, math\n",
    "import pandas as pd\n",
    "from sklearn.metrics import accuracy_score, f1_score, roc_auc_score\n",
    "\n",
    "# --- 1) sanity checks\n",
    "vars_needed = [\"X_test\", \"y_test\", \"y_pred\"]\n",
    "missing = [v for v in vars_needed if v not in globals()]\n",
    "if missing:\n",
    "    raise RuntimeError(f\"Missing variables from evaluation step: {missing}. Run the evaluation cell first.\")\n",
    "\n",
    "# y_prob is optional for AUC\n",
    "has_prob = \"y_prob\" in globals()\n",
    "\n",
    "# --- 2) build DataFrames\n",
    "predictions_df = pd.DataFrame({\n",
    "    \"text\": X_test,\n",
    "    \"true_label\": y_test,\n",
    "    \"pred_label\": y_pred,\n",
    "    **({\"pred_prob\": y_prob} if has_prob else {})\n",
    "})\n",
    "\n",
    "acc = accuracy_score(y_test, y_pred)\n",
    "f1  = f1_score(y_test, y_pred)\n",
    "auc = float(\"nan\")\n",
    "if has_prob:\n",
    "    try:\n",
    "        auc = roc_auc_score(y_test, y_prob)\n",
    "    except Exception:\n",
    "        pass\n",
    "\n",
    "metrics_df = pd.DataFrame([{\n",
    "    \"accuracy\": float(acc),\n",
    "    \"f1_score\": float(f1),\n",
    "    \"roc_auc\": auc\n",
    "}])\n",
    "\n",
    "# --- 3) save to /dbfs/tmp (always exists)\n",
    "tmp_pred = \"/dbfs/tmp/predictions.csv\"\n",
    "tmp_mets = \"/dbfs/tmp/metrics.csv\"\n",
    "predictions_df.to_csv(tmp_pred, index=False)\n",
    "metrics_df.to_csv(tmp_mets, index=False)\n",
    "\n",
    "# --- 4) copy into /FileStore so they’re downloadable via /files/ URLs\n",
    "dbutils.fs.mkdirs(\"dbfs:/FileStore\")\n",
    "dbutils.fs.cp(\"dbfs:/tmp/predictions.csv\", \"dbfs:/FileStore/predictions.csv\", True)\n",
    "dbutils.fs.cp(\"dbfs:/tmp/metrics.csv\",      \"dbfs:/FileStore/metrics.csv\", True)\n",
    "\n",
    "# --- 5) figure out your workspace URL for clickable links\n",
    "try:\n",
    "    host = dbutils.notebook.entry_point.getDbutils().notebook().getContext().browserHostName().get()\n",
    "    base = f\"https://{host}\"\n",
    "except Exception:\n",
    "    base = \"https://<your-workspace-url>\"  # fallback: replace with your actual workspace URL\n",
    "\n",
    "pred_url = f\"{base}/files/predictions.csv\"\n",
    "mets_url = f\"{base}/files/metrics.csv\"\n",
    "\n",
    "print(\"✅ Export complete.\")\n",
    "print(\"Download predictions:\", pred_url)\n",
    "print(\"Download metrics    :\", mets_url)\n"
   ]
  },
  {
   "cell_type": "code",
   "execution_count": 0,
   "metadata": {
    "application/vnd.databricks.v1+cell": {
     "cellMetadata": {
      "byteLimit": 2048000,
      "rowLimit": 10000
     },
     "inputWidgets": {},
     "nuid": "86bd7943-2904-4ae4-8bfc-23151b0e7b49",
     "showTitle": false,
     "tableResultSettingsMap": {},
     "title": ""
    }
   },
   "outputs": [
    {
     "output_type": "stream",
     "name": "stdout",
     "output_type": "stream",
     "text": [
      "Wrote metrics CSV to: wasbs://nlp@stnlpportfolioweu.blob.core.windows.net/scored/imdb_logreg_predictions/metrics_csv\n"
     ]
    }
   ],
   "source": [
    "import pandas as pd\n",
    "\n",
    "metrics = pd.DataFrame([{\n",
    "    \"accuracy\": float(acc),\n",
    "    \"f1_score\": float(f1),\n",
    "    \"roc_auc\": float(auc),\n",
    "}])\n",
    "\n",
    "metrics_out = curated_dir_blob.replace(\"curated\", \"scored\") + \"imdb_logreg_predictions/metrics_csv\"\n",
    "(\n",
    "    spark.createDataFrame(metrics)\n",
    "         .coalesce(1)\n",
    "         .write.mode(\"overwrite\")\n",
    "         .option(\"header\", \"true\")\n",
    "         .csv(metrics_out)\n",
    ")\n",
    "print(\"Wrote metrics CSV to:\", metrics_out)\n"
   ]
  },
  {
   "cell_type": "code",
   "execution_count": 0,
   "metadata": {
    "application/vnd.databricks.v1+cell": {
     "cellMetadata": {
      "byteLimit": 2048000,
      "rowLimit": 10000
     },
     "inputWidgets": {},
     "nuid": "78dd8f04-de9e-47e0-983a-bca15668dd75",
     "showTitle": false,
     "tableResultSettingsMap": {},
     "title": ""
    }
   },
   "outputs": [
    {
     "output_type": "display_data",
     "data": {
      "text/plain": [
       ""
      ]
     },
     "metadata": {
      "application/vnd.databricks.v1+output": {
       "arguments": {},
       "data": "",
       "errorSummary": "Command skipped",
       "errorTraceType": "ansi",
       "metadata": {},
       "type": "ipynbError"
      }
     },
     "output_type": "display_data"
    }
   ],
   "source": [
    "# --- Cell M: robust metrics writer (CSV + JSON) to Blob endpoint ---\n",
    "\n",
    "# 0) Imports\n",
    "import json, math\n",
    "import pandas as pd\n",
    "\n",
    "from pyspark.sql import Row\n",
    "from pyspark.sql import functions as F, types as T\n",
    "\n",
    "# 1) Ensure these exist (edit storage_account / account_key if needed)\n",
    "storage_account = globals().get(\"storage_account\", \"stnlpportfolioweu\")  # <-- change if different\n",
    "account_key     = globals().get(\"account_key\", None)  # must be set earlier\n",
    "\n",
    "if account_key is None:\n",
    "    raise ValueError(\"account_key is not set. Set it like: account_key = '<your storage key>' and rerun Cell M.\")\n",
    "\n",
    "# Configure Blob endpoint (wasbs) – safe even if already set\n",
    "spark.conf.set(f\"fs.azure.account.key.{storage_account}.blob.core.windows.net\", account_key)\n",
    "\n",
    "# 2) Figure out metrics (use existing acc/f1/auc if present; else recompute quickly from y_test/y_pred/y_prob)\n",
    "def _safe(name):\n",
    "    return float(globals()[name]) if name in globals() and globals()[name] is not None and not (isinstance(globals()[name], float) and math.isnan(globals()[name])) else None\n",
    "\n",
    "acc = _safe(\"acc\")\n",
    "f1  = _safe(\"f1\")\n",
    "auc = _safe(\"auc\")\n",
    "\n",
    "# If any are missing, recompute from predictions (requires y_test/y_pred/y_prob from earlier cell C)\n",
    "if acc is None or f1 is None or auc is None:\n",
    "    from sklearn.metrics import accuracy_score, f1_score, roc_auc_score\n",
    "    if \"y_test\" in globals() and \"y_pred\" in globals():\n",
    "        acc = accuracy_score(y_test, y_pred)\n",
    "        f1  = f1_score(y_test, y_pred)\n",
    "        # y_prob may not exist for some solvers; guard it\n",
    "        if \"y_prob\" in globals():\n",
    "            try:\n",
    "                auc = roc_auc_score(y_test, y_prob)\n",
    "            except Exception:\n",
    "                auc = None\n",
    "    else:\n",
    "        raise RuntimeError(\"Couldn't find metrics nor y_test/y_pred in memory. Please run Cell C first.\")\n",
    "\n",
    "metrics_dict = {\"accuracy\": float(acc), \"f1_score\": float(f1), \"roc_auc\": float(auc) if auc is not None else None}\n",
    "print(\"Metrics:\", metrics_dict)\n",
    "\n",
    "# 3) Output paths (Blob endpoint)\n",
    "scored_base = f\"wasbs://nlp@{storage_account}.blob.core.windows.net/scored/imdb_logreg_predictions\"\n",
    "csv_dir     = scored_base + \"/metrics_csv\"\n",
    "json_dir    = scored_base + \"/metrics_json\"\n",
    "\n",
    "# 4) Write CSV (single file) using Spark\n",
    "metrics_pdf = pd.DataFrame([metrics_dict])\n",
    "spark.createDataFrame(metrics_pdf).coalesce(1).write.mode(\"overwrite\").option(\"header\", \"true\").csv(csv_dir)\n",
    "print(\"Wrote CSV to:\", csv_dir)\n",
    "\n",
    "# 5) Write JSON (Spark JSON folder with one file)\n",
    "spark.createDataFrame([Row(**metrics_dict)]).coalesce(1).write.mode(\"overwrite\").json(json_dir)\n",
    "print(\"Wrote JSON to:\", json_dir)\n",
    "\n",
    "# 6) List the folder to confirm\n",
    "print(\"\\nFolder listing (CSV):\")\n",
    "display(dbutils.fs.ls(csv_dir))\n",
    "print(\"\\nFolder listing (JSON):\")\n",
    "display(dbutils.fs.ls(json_dir))\n",
    "\n"
   ]
  },
  {
   "cell_type": "code",
   "execution_count": 0,
   "metadata": {
    "application/vnd.databricks.v1+cell": {
     "cellMetadata": {
      "byteLimit": 2048000,
      "rowLimit": 10000
     },
     "inputWidgets": {},
     "nuid": "c14b3b65-1cf7-415d-8998-a4f0225affd2",
     "showTitle": false,
     "tableResultSettingsMap": {},
     "title": ""
    }
   },
   "outputs": [
    {
     "output_type": "display_data",
     "data": {
      "text/plain": [
       ""
      ]
     },
     "metadata": {
      "application/vnd.databricks.v1+output": {
       "arguments": {},
       "data": "",
       "errorSummary": "Command skipped",
       "errorTraceType": "ansi",
       "metadata": {},
       "type": "ipynbError"
      }
     },
     "output_type": "display_data"
    }
   ],
   "source": [
    "import pandas as pd\n",
    "import json\n",
    "\n",
    "# 1) Build scored outputs DataFrame (pandas)\n",
    "scored_df = pd.DataFrame({\n",
    "    \"text\": X_test,\n",
    "    \"true_label\": y_test,\n",
    "    \"pred_label\": y_pred,\n",
    "    \"pred_prob\": y_prob\n",
    "})\n",
    "\n",
    "# Convert to Spark\n",
    "scored_spark = spark.createDataFrame(scored_df)\n",
    "\n",
    "# 2) Define scored output path\n",
    "scored_out_path = curated_dir_blob.replace(\"curated\", \"scored\") + \"imdb_logreg_predictions\"\n",
    "\n",
    "# Write as Parquet (overwrite old runs)\n",
    "scored_spark.write.mode(\"overwrite\").parquet(scored_out_path)\n",
    "print(\"Scored predictions written to:\", scored_out_path)\n",
    "\n",
    "# 3) Save metrics as JSON in scored/ folder\n",
    "metrics = {\n",
    "    \"accuracy\": float(acc),\n",
    "    \"f1_score\": float(f1),\n",
    "    \"roc_auc\": float(auc),\n",
    "}\n",
    "metrics_path = scored_out_path + \"/metrics.json\"\n",
    "dbutils.fs.put(metrics_path.replace(\"wasbs://\", \"/dbfs/mnt/\"), json.dumps(metrics), overwrite=True)\n",
    "\n",
    "print(\"Metrics JSON written to:\", metrics_path)\n"
   ]
  },
  {
   "cell_type": "code",
   "execution_count": 0,
   "metadata": {
    "application/vnd.databricks.v1+cell": {
     "cellMetadata": {
      "byteLimit": 2048000,
      "rowLimit": 10000
     },
     "inputWidgets": {},
     "nuid": "3cf254cf-f141-4be9-bba6-03f3781a1990",
     "showTitle": false,
     "tableResultSettingsMap": {},
     "title": ""
    }
   },
   "outputs": [
    {
     "output_type": "display_data",
     "data": {
      "text/plain": [
       ""
      ]
     },
     "metadata": {
      "application/vnd.databricks.v1+output": {
       "arguments": {},
       "data": "",
       "errorSummary": "Command skipped",
       "errorTraceType": "ansi",
       "metadata": {},
       "type": "ipynbError"
      }
     },
     "output_type": "display_data"
    }
   ],
   "source": [
    "# ---- Cell E: verify scored outputs and metrics ----\n",
    "scored_check_path = scored_out_path  # from Cell D\n",
    "\n",
    "# List files written\n",
    "print(\"Listing files in:\", scored_check_path)\n",
    "display(dbutils.fs.ls(scored_check_path))\n",
    "\n",
    "# If you also want to peek at some scored rows:\n",
    "scored_spark_read = spark.read.parquet(scored_check_path)\n",
    "display(scored_spark_read.limit(5))\n"
   ]
  },
  {
   "cell_type": "code",
   "execution_count": 0,
   "metadata": {
    "application/vnd.databricks.v1+cell": {
     "cellMetadata": {
      "byteLimit": 2048000,
      "rowLimit": 10000
     },
     "inputWidgets": {},
     "nuid": "340a6145-7570-43dd-82f9-3d3f94274596",
     "showTitle": false,
     "tableResultSettingsMap": {},
     "title": ""
    }
   },
   "outputs": [
    {
     "output_type": "display_data",
     "data": {
      "text/plain": [
       ""
      ]
     },
     "metadata": {
      "application/vnd.databricks.v1+output": {
       "arguments": {},
       "data": "",
       "errorSummary": "Command skipped",
       "errorTraceType": "ansi",
       "metadata": {},
       "type": "ipynbError"
      }
     },
     "output_type": "display_data"
    }
   ],
   "source": [
    "print(\"Predictions parquet:\")\n",
    "display(dbutils.fs.ls(\"wasbs://nlp@stnlpportfolioweu.blob.core.windows.net/scored/imdb_logreg_predictions\"))\n",
    "\n",
    "print(\"Metrics CSV folder:\")\n",
    "display(dbutils.fs.ls(\"wasbs://nlp@stnlpportfolioweu.blob.core.windows.net/scored/imdb_logreg_predictions/metrics_csv\"))\n"
   ]
  },
  {
   "cell_type": "code",
   "execution_count": 0,
   "metadata": {
    "application/vnd.databricks.v1+cell": {
     "cellMetadata": {
      "byteLimit": 2048000,
      "rowLimit": 10000
     },
     "inputWidgets": {},
     "nuid": "eed1b7d2-f53f-43bf-8dac-fd101f983ba7",
     "showTitle": false,
     "tableResultSettingsMap": {},
     "title": ""
    }
   },
   "outputs": [],
   "source": []
  }
 ],
 "metadata": {
  "application/vnd.databricks.v1+notebook": {
   "computePreferences": null,
   "dashboards": [],
   "environmentMetadata": {
    "base_environment": "",
    "environment_version": "3"
   },
   "inputWidgetPreferences": null,
   "language": "python",
   "notebookMetadata": {
    "pythonIndentUnit": 4
   },
   "notebookName": "01_ingest_curate_imdb",
   "widgets": {}
  },
  "language_info": {
   "name": "python"
  }
 },
 "nbformat": 4,
 "nbformat_minor": 0
}